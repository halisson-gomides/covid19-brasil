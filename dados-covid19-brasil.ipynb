{
 "cells": [
  {
   "cell_type": "markdown",
   "id": "a3cce977",
   "metadata": {},
   "source": [
    "## Dados sobre a COVID-19 no Brasil\n",
    "\n",
    "Repositório: https://github.com/wcota/covid19br/\n",
    "\n",
    "Descrição dos dados: https://github.com/wcota/covid19br/blob/master/DESCRIPTION.md"
   ]
  },
  {
   "cell_type": "code",
   "execution_count": null,
   "id": "279e9c8f",
   "metadata": {
    "ExecuteTime": {
     "end_time": "2021-06-01T12:27:35.978315Z",
     "start_time": "2021-06-01T12:27:35.945315Z"
    }
   },
   "outputs": [],
   "source": [
    "%config Completer.use_jedi = True"
   ]
  },
  {
   "cell_type": "code",
   "execution_count": null,
   "id": "9b526ac1",
   "metadata": {
    "ExecuteTime": {
     "end_time": "2021-06-04T21:00:13.901588Z",
     "start_time": "2021-06-04T21:00:12.853008Z"
    }
   },
   "outputs": [],
   "source": [
    "import pandas as pd\n",
    "import numpy as np\n",
    "pd.set_option('display.max_columns', None)\n",
    "\n",
    "# import directly from GitHub\n",
    "df = pd.read_csv(\"https://raw.githubusercontent.com/wcota/covid19br/master/cases-brazil-states.csv\")\n",
    "\n",
    "# change date column to datetime format\n",
    "df['date'] = pd.to_datetime(df['date'])\n",
    "\n",
    "# print all available columns\n",
    "print(df.columns, end='\\n')\n",
    "\n",
    "df.sample(3)"
   ]
  },
  {
   "cell_type": "code",
   "execution_count": null,
   "id": "7053f866",
   "metadata": {
    "ExecuteTime": {
     "end_time": "2021-06-04T21:00:13.995590Z",
     "start_time": "2021-06-04T21:00:13.905589Z"
    },
    "code_folding": []
   },
   "outputs": [],
   "source": [
    "# filter data for Brazil, and show only the specified columns\n",
    "data_BR = df.query(\"state == 'TOTAL'\")[['date', 'state', 'newDeaths', 'deaths', 'deathsMS', 'newCases', 'totalCases', 'totalCasesMS', 'recovered', 'tests', 'vaccinated', 'vaccinated_second']]\n",
    "\n",
    "# create new columns\n",
    "data_BR['activeCases'] = data_BR['totalCases'] - data_BR['deaths'] - data_BR['recovered']\n",
    "data_BR['activeCasesMS'] = data_BR['totalCasesMS'] - data_BR['deathsMS'] - data_BR['recovered']\n",
    "data_BR['activeCasesDiff'] = data_BR['activeCases'] - data_BR['activeCasesMS']\n",
    "data_BR['deathsDiff'] = data_BR['deaths'] - data_BR['deathsMS']\n",
    "data_BR['newVaccinated'] = data_BR['vaccinated'].diff()\n",
    "data_BR['newVaccinated_second'] = data_BR['vaccinated_second'].diff()\n",
    "\n",
    "# display the dataframe\n",
    "data_BR.sample(3)"
   ]
  },
  {
   "cell_type": "code",
   "execution_count": null,
   "id": "8cc3ca54",
   "metadata": {
    "ExecuteTime": {
     "end_time": "2021-06-04T21:00:16.803017Z",
     "start_time": "2021-06-04T21:00:14.935186Z"
    }
   },
   "outputs": [],
   "source": [
    "import cufflinks as cf\n",
    "cf.go_offline()\n",
    "from plotly.offline import iplot\n",
    "\n",
    "import plotly.graph_objects as go\n",
    "from plotly.subplots import make_subplots\n",
    "import plotly.express as px"
   ]
  },
  {
   "cell_type": "markdown",
   "id": "34829a69",
   "metadata": {},
   "source": [
    "#### Casos Ativos - Acumulado"
   ]
  },
  {
   "cell_type": "code",
   "execution_count": null,
   "id": "eed42541",
   "metadata": {
    "ExecuteTime": {
     "end_time": "2021-05-19T21:13:43.654506Z",
     "start_time": "2021-05-19T21:13:40.252670Z"
    },
    "code_folding": [
     0
    ],
    "run_control": {
     "marked": false
    }
   },
   "outputs": [],
   "source": [
    "# data_BR.iplot(y=['activeCases', 'activeCasesMS'],\n",
    "#               x='date',width=2.0,\n",
    "#               secondary_y='activeCasesDiff', secondary_y_title='Diferença',\n",
    "#               xTitle='Data', yTitle='Casos Ativos', title='Casos Ativos - MS x Consórcio')\n",
    "fig = make_subplots(specs=[[{\"secondary_y\": True}]])\n",
    "fig.add_trace(\n",
    "    go.Scatter(\n",
    "        x = data_BR['date'],\n",
    "        y = data_BR['activeCases'],\n",
    "        line=dict(width=3),\n",
    "        name='Casos Ativos',\n",
    "        text= data_BR['date'],\n",
    "        hoverinfo='text',\n",
    "    ),\n",
    "    secondary_y=False,\n",
    ")\n",
    "fig.add_trace(\n",
    "    go.Scatter(\n",
    "        x = data_BR['date'],\n",
    "        y = data_BR['activeCasesMS'],\n",
    "        line=dict(width=3),\n",
    "        name='Casos Ativos - MS',\n",
    "        text= data_BR['date'],\n",
    "        hoverinfo='text',\n",
    "    ),\n",
    "    secondary_y=False,\n",
    ")\n",
    "fig.add_trace(\n",
    "    go.Bar(\n",
    "        x = data_BR['date'],\n",
    "        y = data_BR['activeCasesDiff'],\n",
    "        name='diferença',\n",
    "        text= data_BR['date'],\n",
    "        hoverinfo='text',\n",
    "    ),\n",
    "    secondary_y=True,\n",
    ")\n",
    "\n",
    "# customizações de layout\n",
    "fig.update_layout(\n",
    "    title=dict(\n",
    "        text='<b>Casos Ativos - MS x Consórcio</b>',\n",
    "        xref='paper',\n",
    "        pad=dict(l=150),\n",
    "    ),    \n",
    "    xaxis_tickformat = '%d/%m/%Y',\n",
    "    hovermode='x unified',\n",
    "    separators=',.',\n",
    "    plot_bgcolor='#fafafa',\n",
    "    legend=dict(\n",
    "        x=0.01,\n",
    "        y=0.9,\n",
    "        traceorder='normal',\n",
    "        font=dict(size=10)\n",
    "    ),\n",
    "    margin=dict(l=0, r=0, t=30, b=0),\n",
    ")\n",
    "\n",
    "fig.update_traces(hovertemplate='%{y:,.0f}')\n",
    "\n",
    "# Anotações\n",
    "fig.add_annotation(x=data_BR.loc[data_BR['activeCasesDiff'].idxmax(), 'date'], y=data_BR['activeCasesDiff'].max(),\n",
    "            yref='y2',\n",
    "            text=\"> \"+str(round(data_BR['activeCasesDiff'].max(),-3)),\n",
    "            font=dict(size=10),\n",
    "            showarrow=True,\n",
    "            arrowhead=1)\n",
    "\n",
    "# Set x-axis title\n",
    "# fig.update_xaxes(title_text=\"Data\")\n",
    "\n",
    "# Set y-axes titles\n",
    "fig.update_yaxes(title_text=\"Casos Confirmados\", secondary_y=False)\n",
    "fig.update_yaxes(title_text=\"Diferença\", secondary_y=True)\n",
    "\n",
    "fig.show()\n",
    "fig.write_html(\"graficos/leg-int/casos-ativos_x_consorcio.html\")"
   ]
  },
  {
   "cell_type": "markdown",
   "id": "8ef3a6dd",
   "metadata": {},
   "source": [
    "#### Casos confirmados por Mês"
   ]
  },
  {
   "cell_type": "code",
   "execution_count": null,
   "id": "d945b08e",
   "metadata": {
    "ExecuteTime": {
     "end_time": "2021-05-19T21:13:44.016971Z",
     "start_time": "2021-05-19T21:13:44.006998Z"
    },
    "code_folding": [
     0
    ]
   },
   "outputs": [],
   "source": [
    "# agrupando por mês\n",
    "per = data_BR['date'].dt.to_period('M')\n",
    "p_mes = data_BR.groupby(per).agg({\n",
    "    'newDeaths': 'sum', \n",
    "     'newCases': 'sum'}).to_timestamp()\n"
   ]
  },
  {
   "cell_type": "code",
   "execution_count": null,
   "id": "8e75ca38",
   "metadata": {
    "ExecuteTime": {
     "end_time": "2021-05-19T21:13:46.196044Z",
     "start_time": "2021-05-19T21:13:46.085246Z"
    },
    "code_folding": [
     0
    ]
   },
   "outputs": [],
   "source": [
    "# Casos confirmados por mês\n",
    "\n",
    "fig = go.Figure(\n",
    "    data=[\n",
    "        go.Bar(\n",
    "            x = p_mes.index,\n",
    "            y = p_mes['newCases'],            \n",
    "            name='Casos',\n",
    "        ),\n",
    "    ]\n",
    ")\n",
    "\n",
    "fig.update_layout(    \n",
    "    title=dict(\n",
    "        text='<b>Casos Confirmados por mês - COVID-19</b>',\n",
    "        xref='paper',\n",
    "        pad=dict(l=150),\n",
    "    ),  \n",
    "    legend=dict(\n",
    "        x=0.01,\n",
    "        y=0.9,\n",
    "        traceorder='normal',\n",
    "        font=dict(size=10),\n",
    "    ),\n",
    "    hovermode='x unified', \n",
    "    separators=',.', \n",
    "    plot_bgcolor='#fafafa',\n",
    "    xaxis_tickformat = '%m/%Y',\n",
    "    margin=dict(l=0, r=0, t=30, b=0),\n",
    ")\n",
    "fig.update_xaxes(nticks=p_mes.shape[0])\n",
    "\n",
    "fig.update_traces(\n",
    "    hovertemplate='%{y:,.0f}',\n",
    "    marker_color='goldenrod',    \n",
    ")\n",
    "fig.write_html(\"graficos/leg-int/casos-p-mes.html\")\n",
    "fig.show()"
   ]
  },
  {
   "cell_type": "markdown",
   "id": "3fd8c0f9",
   "metadata": {},
   "source": [
    "#### Óbitos - Acumulado"
   ]
  },
  {
   "cell_type": "code",
   "execution_count": null,
   "id": "3ed44f47",
   "metadata": {
    "ExecuteTime": {
     "end_time": "2021-05-19T21:13:54.219208Z",
     "start_time": "2021-05-19T21:13:54.068179Z"
    },
    "code_folding": [
     0
    ],
    "run_control": {
     "marked": false
    }
   },
   "outputs": [],
   "source": [
    "# Óbitos acumulados\n",
    "\n",
    "# data_BR.iplot(y=['deaths', 'deathsMS'],\n",
    "#               x='date',width=2.0,\n",
    "#               secondary_y='deathsDiff', secondary_y_title='Diferença',\n",
    "#               xTitle='Data', yTitle='Óbitos', title='Óbitos - MS x Consórcio')\n",
    "\n",
    "fig = make_subplots(specs=[[{\"secondary_y\": True}]])\n",
    "fig.add_trace(\n",
    "    go.Scatter(\n",
    "        x = data_BR['date'],\n",
    "        y = data_BR['deaths'],\n",
    "        line=dict(width=3, color='orange'),\n",
    "        name='Óbitos',\n",
    "    ),\n",
    "    secondary_y=False,\n",
    ")\n",
    "fig.add_trace(\n",
    "    go.Scatter(\n",
    "        x = data_BR['date'],\n",
    "        y = data_BR['deathsMS'],\n",
    "        line=dict(width=3, color='blue'),\n",
    "        name='Óbitos - MS',\n",
    "    ),\n",
    "    secondary_y=False,\n",
    ")\n",
    "fig.add_trace(\n",
    "    go.Bar(\n",
    "        x = data_BR['date'],\n",
    "        y = data_BR['deathsDiff'],\n",
    "        name='diferença',\n",
    "    ),\n",
    "    secondary_y=True,\n",
    ")\n",
    "\n",
    "# customização do layout\n",
    "fig.update_layout(\n",
    "    title=dict(\n",
    "        text='<b>Óbitos - Acumulado - MS x SES</b>',\n",
    "        xref='paper',\n",
    "        pad=dict(l=150),\n",
    "    ), \n",
    "    xaxis_tickformat = '%d/%m/%Y',\n",
    "    hovermode='x unified',\n",
    "    separators=',.',\n",
    "    plot_bgcolor='#fafafa',\n",
    "    legend=dict(\n",
    "        x=0.01,\n",
    "        y=0.9,\n",
    "        traceorder='normal',\n",
    "        font=dict(size=10)\n",
    "    ),\n",
    "    margin=dict(l=0, r=0, t=30, b=0),\n",
    ")\n",
    "\n",
    "fig.update_traces(hovertemplate='%{y:,.0f}')\n",
    "\n",
    "# Anotações\n",
    "fig.add_annotation(x=data_BR.loc[data_BR['deathsDiff'].idxmax(), 'date'], y=data_BR['deathsDiff'].max(),\n",
    "            yref='y2',\n",
    "            text=\"> \"+str(round(data_BR['deathsDiff'].max(),-2)),\n",
    "            font=dict(size=10),\n",
    "            showarrow=True,\n",
    "            arrowhead=1)\n",
    "\n",
    "# Set x-axis title\n",
    "# fig.update_xaxes(title_text=\"Data\")\n",
    "\n",
    "# Set y-axes titles\n",
    "fig.update_yaxes(title_text=\"Óbitos Confirmados\", secondary_y=False)\n",
    "fig.update_yaxes(title_text=\"Diferença\", secondary_y=True)\n",
    "\n",
    "fig.show()\n",
    "fig.write_html(\"graficos/leg-int/obitos_x_consorcio.html\")"
   ]
  },
  {
   "cell_type": "markdown",
   "id": "ef56d44b",
   "metadata": {},
   "source": [
    "#### Óbitos registrados por Mês"
   ]
  },
  {
   "cell_type": "code",
   "execution_count": null,
   "id": "a3df60fc",
   "metadata": {
    "ExecuteTime": {
     "end_time": "2021-05-19T21:14:00.634655Z",
     "start_time": "2021-05-19T21:14:00.571824Z"
    },
    "code_folding": [
     0
    ]
   },
   "outputs": [],
   "source": [
    "# Óbitos p/ mês\n",
    "\n",
    "fig = go.Figure(\n",
    "    data=[\n",
    "        go.Bar(\n",
    "            x = p_mes.index,\n",
    "            y = p_mes['newDeaths'],            \n",
    "            name='Óbitos',\n",
    "        ),\n",
    "    ]\n",
    ")\n",
    "\n",
    "fig.update_layout(\n",
    "    title=dict(\n",
    "        text='<b>Óbitos registrados por mês - COVID-19</b>',\n",
    "        xref='paper',\n",
    "        pad=dict(l=150),\n",
    "    ),\n",
    "    legend=dict(\n",
    "        x=0.01,\n",
    "        y=0.9,\n",
    "        traceorder='normal',\n",
    "        font=dict(size=10),\n",
    "    ),\n",
    "    hovermode='x unified', \n",
    "    separators=',.', \n",
    "    plot_bgcolor='#fafafa',\n",
    "    xaxis_tickformat = '%m/%Y',\n",
    "    margin=dict(l=0, r=0, t=30, b=0),\n",
    ")\n",
    "fig.update_xaxes(nticks=p_mes.shape[0])\n",
    "\n",
    "fig.update_traces(\n",
    "    hovertemplate='%{y:,.0f}',\n",
    "    marker_color='firebrick',    \n",
    ")\n",
    "fig.write_html(\"graficos/leg-int/obitos-p-mes.html\")\n",
    "fig.show()"
   ]
  },
  {
   "cell_type": "markdown",
   "id": "c1775f06",
   "metadata": {},
   "source": [
    "#### Indicadores - Vacinação"
   ]
  },
  {
   "cell_type": "code",
   "execution_count": null,
   "id": "a3e9eef3",
   "metadata": {
    "ExecuteTime": {
     "end_time": "2021-05-19T21:14:11.065797Z",
     "start_time": "2021-05-19T21:14:11.050843Z"
    }
   },
   "outputs": [],
   "source": [
    "import plotly.io as pio\n",
    "pio.kaleido.scope.default_format = \"svg\"\n",
    "pio.kaleido.scope.default_width = 300\n",
    "pio.kaleido.scope.default_height = 200\n",
    "pio.kaleido.scope.default_scale = 1"
   ]
  },
  {
   "cell_type": "code",
   "execution_count": null,
   "id": "92e78e38",
   "metadata": {
    "ExecuteTime": {
     "end_time": "2021-05-19T21:14:14.632501Z",
     "start_time": "2021-05-19T21:14:12.442863Z"
    },
    "code_folding": [
     0
    ]
   },
   "outputs": [],
   "source": [
    "# Indicador de Vacinas aplicadas\n",
    "\n",
    "fig = go.Figure()\n",
    "\n",
    "total_vacinados = data_BR['vaccinated'].iloc[-1] + data_BR['vaccinated_second'].iloc[-1]\n",
    "# mean_7_vacinados = np.sum(data_BR[['vaccinated', 'vaccinated_second']].tail(7).values)/7\n",
    "\n",
    "fig.add_trace(go.Indicator(\n",
    "    mode = \"number\",\n",
    "    value = total_vacinados,\n",
    "    number = {'valueformat': ',.4s',},\n",
    "    #delta = {'reference': mean_7_vacinados, 'relative': True},\n",
    "    title= {'text': 'Doses aplicadas'},\n",
    "    domain = {'x': [0.15, 0], 'y': [0.001, 0]}\n",
    "    )\n",
    ")\n",
    "fig.update_layout(\n",
    "    margin=dict(l=0, r=0, t=0, b=0),\n",
    ")\n",
    "fig.write_image(\"graficos/indicadores/ind-qtd-vacinas.svg\")\n",
    "fig.show()"
   ]
  },
  {
   "cell_type": "code",
   "execution_count": null,
   "id": "23d3f193",
   "metadata": {
    "ExecuteTime": {
     "end_time": "2021-05-19T21:14:14.750206Z",
     "start_time": "2021-05-19T21:14:14.634497Z"
    },
    "code_folding": [
     0
    ]
   },
   "outputs": [],
   "source": [
    "# Indicador 1 Dose\n",
    "\n",
    "fig = go.Figure()\n",
    "\n",
    "total_vacinados = data_BR['vaccinated'].iloc[-1]\n",
    "crescimento = data_BR['vaccinated'].iloc[-2]\n",
    "\n",
    "fig.add_trace(go.Indicator(\n",
    "    mode = \"number+delta\",\n",
    "    value = total_vacinados,    \n",
    "    number = {'valueformat': ',.4s',},\n",
    "    delta = {'reference': crescimento, 'relative': False, 'valueformat': ',.5s'},\n",
    "    title= {'text': '1ª Dose'},\n",
    "    domain = {'x': [0.15, 0], 'y': [0.001, 0]}\n",
    "    )\n",
    ")\n",
    "fig.write_image(\"graficos/indicadores/ind-qtd-1dose.svg\")\n",
    "fig.show()"
   ]
  },
  {
   "cell_type": "code",
   "execution_count": null,
   "id": "b01766d5",
   "metadata": {
    "ExecuteTime": {
     "end_time": "2021-05-19T21:14:19.800856Z",
     "start_time": "2021-05-19T21:14:19.761964Z"
    },
    "code_folding": [
     0
    ]
   },
   "outputs": [],
   "source": [
    "# Indicador 2 Dose\n",
    "\n",
    "fig = go.Figure()\n",
    "\n",
    "total_vacinados = data_BR['vaccinated_second'].iloc[-1]\n",
    "crescimento = data_BR['vaccinated_second'].iloc[-2]\n",
    "\n",
    "fig.add_trace(go.Indicator(\n",
    "    mode = \"number+delta\",\n",
    "    value = total_vacinados,\n",
    "    number = {'valueformat': ',.4s',},\n",
    "    delta = {'reference': crescimento, 'relative': False, 'valueformat': ',.5s'},\n",
    "    title= {'text': '2ª Dose'},\n",
    "    domain = {'x': [0.15, 0], 'y': [0.001, 0]}\n",
    "    )\n",
    ")\n",
    "fig.write_image(\"graficos/indicadores/ind-qtd-2dose.svg\")\n",
    "fig.show()"
   ]
  },
  {
   "cell_type": "code",
   "execution_count": null,
   "id": "421f3431",
   "metadata": {
    "ExecuteTime": {
     "end_time": "2021-05-19T21:14:22.530612Z",
     "start_time": "2021-05-19T21:14:22.481712Z"
    },
    "code_folding": [
     0
    ]
   },
   "outputs": [],
   "source": [
    "# Tempo decorrido desde o início da vacinação\n",
    "t_menor = data_BR[~data_BR['vaccinated'].isna()]['date'].min()\n",
    "t_maior = data_BR[~data_BR['vaccinated'].isna()]['date'].max()\n",
    "t_decorrido = t_maior - t_menor\n",
    "t_decorrido = int(str(t_decorrido).split()[0])\n",
    "fig = go.Figure()\n",
    "fig.add_trace(go.Indicator(\n",
    "    mode = \"number\",\n",
    "    value = t_decorrido,\n",
    "    domain = {'x': [0.3, 0.3], 'y': [0.5, 1]},\n",
    "    title= {'text': \"Tempo decorrido\"},\n",
    "    )\n",
    ")\n",
    "fig.update_layout(\n",
    "    margin=dict(l=0, r=0, t=0, b=0),\n",
    ")\n",
    "fig.write_image(\"graficos/indicadores/ind-tempo-vacinacao.svg\")\n",
    "fig.show()"
   ]
  },
  {
   "cell_type": "markdown",
   "id": "958ea3a9",
   "metadata": {},
   "source": [
    "#### Evolução da Vacinação"
   ]
  },
  {
   "cell_type": "code",
   "execution_count": null,
   "id": "c57b08e5",
   "metadata": {
    "ExecuteTime": {
     "end_time": "2021-05-19T21:14:26.807241Z",
     "start_time": "2021-05-19T21:14:26.803222Z"
    },
    "code_folding": [
     0
    ]
   },
   "outputs": [],
   "source": [
    "# Em quantos dias alcançamos 50M de doses aplicadas, desde o início da vacinação?\n",
    "df_50M = data_BR.loc[(data_BR['vaccinated'] + data_BR['vaccinated_second']) >49999999].iloc[0]\n",
    "dias_50M = df_50M['date'] - t_menor\n",
    "dias_50M = int(str(dias_50M).split()[0])"
   ]
  },
  {
   "cell_type": "code",
   "execution_count": null,
   "id": "3135aa57",
   "metadata": {
    "ExecuteTime": {
     "end_time": "2021-05-19T21:14:30.708308Z",
     "start_time": "2021-05-19T21:14:30.401287Z"
    },
    "code_folding": [
     0
    ],
    "run_control": {
     "marked": false
    }
   },
   "outputs": [],
   "source": [
    "# Evolução da vacinação\n",
    "\n",
    "# data_BR[~data_BR['vaccinated'].isna()].iplot(\n",
    "#     x='date', \n",
    "#     y=['vaccinated', 'vaccinated_second'], \n",
    "#     title='Evolução da vacinação'    \n",
    "# )\n",
    "\n",
    "_dv = data_BR[~data_BR['vaccinated'].isna()]\n",
    "fig = go.Figure(go.Scatter(\n",
    "    x = _dv['date'],\n",
    "    y = _dv['vaccinated'],\n",
    "    line=dict(color='MediumPurple', width=3),\n",
    "    fill='tonexty',\n",
    "    name='primeira dose'\n",
    "\n",
    "))\n",
    "\n",
    "fig.add_trace(go.Scatter(\n",
    "    x = _dv['date'],\n",
    "    y = _dv['vaccinated_second'],\n",
    "    line=dict(color='Coral', width=3),\n",
    "    fill='tozeroy',\n",
    "    name='segunda dose'\n",
    "))\n",
    "\n",
    "fig.update_layout(\n",
    "    title=dict(\n",
    "        text='<b>Evolução da vacinação - COVID-19</b>',\n",
    "        xref='paper',\n",
    "        pad=dict(l=150),\n",
    "    ),\n",
    "    xaxis_tickformat = '%d/%m/%Y',\n",
    "    legend=dict(\n",
    "        x=0.01,\n",
    "        y=0.9,\n",
    "        traceorder='normal',\n",
    "        font=dict(size=10)\n",
    "    ),\n",
    "    hovermode='x unified', \n",
    "    separators=',.', \n",
    "    plot_bgcolor='#fafafa',\n",
    "    margin=dict(l=0, r=0, t=30, b=0),\n",
    ")\n",
    "\n",
    "fig.update_traces(hovertemplate='%{y:,.0f}')\n",
    "\n",
    "fig.add_vline(\n",
    "    x=df_50M['date'], \n",
    "    line_width=3, \n",
    "    line_dash=\"dash\", \n",
    "    line_color=\"green\",\n",
    ")\n",
    "\n",
    "# Anotações\n",
    "fig.add_annotation(\n",
    "    x=df_50M['date'], \n",
    "    y=df_50M['vaccinated'] + 100000,            \n",
    "    text=f\"50M em {dias_50M} dias\",\n",
    "    font=dict(size=10, color='white'),\n",
    "    showarrow=False,\n",
    "    xref=\"x\",\n",
    "    yref=\"y\",\n",
    "    yshift=-100,\n",
    "    xshift=-50,\n",
    "    align=\"left\",\n",
    "    borderpad=4,\n",
    "    bgcolor=\"ForestGreen\",\n",
    ")\n",
    "\n",
    "fig.show()\n",
    "fig.write_html(\"graficos/leg-int/evolucao-vacinacao.html\")"
   ]
  },
  {
   "cell_type": "markdown",
   "id": "56731f52",
   "metadata": {},
   "source": [
    "#### Vacinação Diária"
   ]
  },
  {
   "cell_type": "code",
   "execution_count": null,
   "id": "f0227100",
   "metadata": {
    "ExecuteTime": {
     "end_time": "2021-05-19T21:14:37.187886Z",
     "start_time": "2021-05-19T21:14:37.048548Z"
    },
    "code_folding": [
     0
    ],
    "run_control": {
     "marked": false
    }
   },
   "outputs": [],
   "source": [
    "# vacinas aplicadas por dia\n",
    "\n",
    "_dv['1_dose_7d'] = _dv['newVaccinated'].rolling(7).mean()\n",
    "_dv['2_dose_7d'] = _dv['newVaccinated_second'].rolling(7).mean()\n",
    "\n",
    "fig = go.Figure(\n",
    "    data=[\n",
    "        go.Bar(\n",
    "            x = _dv['date'],\n",
    "            y = _dv['newVaccinated'],            \n",
    "            name='primeira dose',\n",
    "            opacity=0.5\n",
    "        ),\n",
    "        go.Bar(\n",
    "            x = _dv['date'],\n",
    "            y = _dv['newVaccinated_second'],            \n",
    "            name='segunda dose',\n",
    "        ),\n",
    "        go.Scatter(\n",
    "            x = _dv['date'],\n",
    "            y = _dv['1_dose_7d'],\n",
    "            line=dict(color='MediumPurple', width=5),\n",
    "            name='média móvel 1ª dose'\n",
    "        ),\n",
    "        go.Scatter(\n",
    "            x = _dv['date'],\n",
    "            y = _dv['2_dose_7d'],\n",
    "            line=dict(color='Coral', width=5),\n",
    "            name='média móvel 2ª dose'\n",
    "        )\n",
    "    ]\n",
    ")\n",
    "\n",
    "fig.update_layout(\n",
    "    title=dict(\n",
    "        text='<b>Vacinação por dia - COVID-19</b>',\n",
    "        xref='paper',\n",
    "        pad=dict(l=150),\n",
    "    ),\n",
    "    xaxis_tickformat = '%d/%m/%Y',\n",
    "    barmode='stack',\n",
    "    legend=dict(\n",
    "        x=0.01,\n",
    "        y=0.9,\n",
    "        traceorder='normal',\n",
    "        font=dict(size=10)\n",
    "    ),\n",
    "    margin=dict(l=0, r=0, t=30, b=0),\n",
    ")\n",
    "fig.update_traces(\n",
    "    hovertemplate='%{y:,.0f}',\n",
    "    marker_color='DarkGray',    \n",
    ")\n",
    "fig.update_layout(hovermode='x unified', separators=',.', plot_bgcolor='#fafafa')\n",
    "fig.show()\n",
    "fig.write_html(\"graficos/leg-int/vacinacao-por-dia.html\")\n"
   ]
  },
  {
   "cell_type": "markdown",
   "id": "f4ee4198",
   "metadata": {},
   "source": [
    "### Proporção da população vacinada por UF\n",
    "\n",
    "Malha estadual - shp\n",
    "Link: https://www.ibge.gov.br/geociencias/organizacao-do-territorio/estrutura-territorial/15774-malhas.html?=&t=downloads\n",
    "\n",
    "População estimada - xls\n",
    "Link: https://www.ibge.gov.br/estatisticas/sociais/populacao/9103-estimativas-de-populacao.html?=&t=downloads"
   ]
  },
  {
   "cell_type": "code",
   "execution_count": null,
   "id": "37c1dedd",
   "metadata": {
    "ExecuteTime": {
     "end_time": "2021-06-03T15:28:13.817291Z",
     "start_time": "2021-06-03T15:28:12.796895Z"
    }
   },
   "outputs": [],
   "source": [
    "import geopandas as gpd\n",
    "\n",
    "geo_dados_uf = gpd.read_file('shapefiles/BR_UF_2020/BR_UF_2020.shp')\n",
    "# geo_dados_uf = geo_dados_uf.to_crs('+proj=utm +zone=23 +south +ellps=GRS80 +towgs84=0,0,0,0,0,0,0 +units=km +no_defs ')\n",
    "# geo_dados_uf.to_file(\"geojson/brasil-uf-compressed.json\", driver='GeoJSON')\n",
    "geo_dados_uf.head(3)"
   ]
  },
  {
   "cell_type": "code",
   "execution_count": null,
   "id": "49f518c3",
   "metadata": {
    "ExecuteTime": {
     "end_time": "2021-06-04T21:00:24.290717Z",
     "start_time": "2021-06-04T21:00:24.012204Z"
    }
   },
   "outputs": [],
   "source": [
    "# pop_munic = pd.read_excel('datasets/originais/populacao_2020.xls', sheet_name='Municípios', \n",
    "#                           skiprows=1, skipfooter=16)\n",
    "# pop_munic['POPULAÇÃO ESTIMADA'] = pop_munic['POPULAÇÃO ESTIMADA'].apply(lambda x: str(x).split('(')[0])\n",
    "# pop_munic['POPULAÇÃO ESTIMADA'] = pop_munic['POPULAÇÃO ESTIMADA'].astype(int)\n",
    "# pop_uf = pop_munic[['UF', 'POPULAÇÃO ESTIMADA']].groupby('UF').sum().reset_index()\n",
    "\n",
    "pop_munic = pd.read_excel('datasets/originais/populacao_2020.xls', sheet_name=['BRASIL E UFs','Municípios'], \n",
    "                          skiprows=1, skipfooter=7)\n",
    "\n",
    "pop_uf = pop_munic['BRASIL E UFs'].drop(columns='Unnamed: 1').drop(\n",
    "    np.where(pop_munic['BRASIL E UFs'].iloc[:,0].str.contains('Brasil|Região', case=False))[0]\n",
    ").reset_index(drop=True)\n",
    "\n",
    "pop_uf['POPULAÇÃO ESTIMADA'] = pop_uf['POPULAÇÃO ESTIMADA'].apply(\n",
    "    lambda x: int(x.split('(')[0].replace('.','')) if  isinstance(x, str) else x)\n",
    "\n",
    "pop_uf.rename(columns={'BRASIL E UNIDADES DA FEDERAÇÃO': 'NM_UF', 'POPULAÇÃO ESTIMADA': 'POPULACAO'}, inplace=True)\n",
    "\n",
    "pop_munic = pop_munic['Municípios'].drop(index=pop_munic['Municípios'].index[-9:])\n",
    "pop_munic['POPULAÇÃO ESTIMADA'] = pop_munic['POPULAÇÃO ESTIMADA'].apply(lambda x: str(x).split('(')[0])\n",
    "pop_munic['POPULAÇÃO ESTIMADA'] = pop_munic['POPULAÇÃO ESTIMADA'].astype(int)\n",
    "\n",
    "pop_uf['UF'] = pop_uf['POPULACAO'].map(pop_munic[['UF', 'POPULAÇÃO ESTIMADA']].groupby('UF').sum().reset_index().set_index('POPULAÇÃO ESTIMADA')['UF'])"
   ]
  },
  {
   "cell_type": "code",
   "execution_count": null,
   "id": "be91b5a2",
   "metadata": {
    "ExecuteTime": {
     "end_time": "2021-06-04T21:00:28.464856Z",
     "start_time": "2021-06-04T21:00:27.866648Z"
    }
   },
   "outputs": [],
   "source": [
    "data_UF = df.query(\"state != 'TOTAL' and epi_week == @df['epi_week'].max()\")"
   ]
  },
  {
   "cell_type": "code",
   "execution_count": null,
   "id": "78ae2823",
   "metadata": {
    "ExecuteTime": {
     "end_time": "2021-06-04T21:00:28.495650Z",
     "start_time": "2021-06-04T21:00:28.464856Z"
    }
   },
   "outputs": [],
   "source": [
    "data_UF['perc_vac'] = (data_UF['vaccinated'] / data_UF['state'].map(pop_uf.set_index('UF')['POPULACAO']))*100\n",
    "data_UF['date_str'] = data_UF['date'].apply(lambda x: x.strftime('%d/%m/%Y'))\n",
    "data_UF['NM_UF'] = data_UF['state'].map(pop_uf.set_index('UF')['NM_UF'])"
   ]
  },
  {
   "cell_type": "code",
   "execution_count": null,
   "id": "4b5984d9",
   "metadata": {
    "ExecuteTime": {
     "end_time": "2021-06-04T21:00:30.895322Z",
     "start_time": "2021-06-04T21:00:30.883321Z"
    }
   },
   "outputs": [],
   "source": [
    "limite_inferior = int(round(data_UF['perc_vac'].min(), 0))\n",
    "\n",
    "limite_superior = int(round(data_UF['perc_vac'].max(), 0))\n",
    "\n",
    "# cut_bins = [x for x in range(limite_inferior-2, limite_superior+1, (limite_superior//6))]\n",
    "# cut_labels = [f'{cut_bins[i]}-{cut_bins[i+1]}%' if i+1 < len(cut_bins) else f'> {cut_bins[i]}%' for i in range(0, len(cut_bins))]\n",
    "\n",
    "cut_bins = np.linspace(limite_inferior-2, limite_superior+2, num=5)\n",
    "print(cut_bins)\n",
    "cut_bins = np.ceil(cut_bins).astype(int)\n",
    "print(cut_bins)\n",
    "cut_labels = [f'{cut_bins[i]}-{cut_bins[i+1]}%' if i+2 < len(cut_bins) else f'> {cut_bins[i]}%' for i in range(0, len(cut_bins)-1)]\n",
    "print(cut_labels)"
   ]
  },
  {
   "cell_type": "code",
   "execution_count": null,
   "id": "4f1af979",
   "metadata": {
    "ExecuteTime": {
     "end_time": "2021-06-04T21:00:39.240064Z",
     "start_time": "2021-06-04T21:00:39.221041Z"
    }
   },
   "outputs": [],
   "source": [
    "# Definindo faixa de valores percentuais para o percentual da população vacinada em 6 faixas\n",
    "\n",
    "\n",
    "data_UF['faixa_perc'] = pd.cut(\n",
    "    data_UF['perc_vac'],\n",
    "    bins=cut_bins,\n",
    "    labels=cut_labels,\n",
    ")\n",
    "data_UF['faixa_perc'].value_counts()"
   ]
  },
  {
   "cell_type": "code",
   "execution_count": null,
   "id": "71d910ef",
   "metadata": {
    "ExecuteTime": {
     "end_time": "2021-06-04T21:01:42.664633Z",
     "start_time": "2021-06-04T21:01:42.658631Z"
    }
   },
   "outputs": [],
   "source": [
    "data_UF['faixa_perc'].unique().tolist()"
   ]
  },
  {
   "cell_type": "markdown",
   "id": "ba141166",
   "metadata": {},
   "source": [
    "#### Usando GeoJson"
   ]
  },
  {
   "cell_type": "code",
   "execution_count": null,
   "id": "e25b7f25",
   "metadata": {
    "ExecuteTime": {
     "end_time": "2021-06-03T19:20:07.358846Z",
     "start_time": "2021-06-03T19:20:03.995113Z"
    },
    "code_folding": [],
    "run_control": {
     "marked": false
    }
   },
   "outputs": [],
   "source": [
    "# Usando o GeoJson\n",
    "import json\n",
    "\n",
    "with open('geojson/brasil-uf-compressed.json') as f:\n",
    "    uf_br = json.load(f)\n",
    "    \n",
    "uf_br[\"features\"][0].keys()"
   ]
  },
  {
   "cell_type": "code",
   "execution_count": null,
   "id": "c658724c",
   "metadata": {
    "ExecuteTime": {
     "end_time": "2021-06-01T17:30:25.761341Z",
     "start_time": "2021-06-01T17:30:25.749321Z"
    }
   },
   "outputs": [],
   "source": [
    "uf_br[\"features\"][0]['properties']['NM_UF']"
   ]
  },
  {
   "cell_type": "code",
   "execution_count": null,
   "id": "6d4e008c",
   "metadata": {
    "ExecuteTime": {
     "end_time": "2021-05-06T17:24:20.036725Z",
     "start_time": "2021-05-06T17:22:14.125466Z"
    },
    "code_folding": [
     0
    ]
   },
   "outputs": [],
   "source": [
    "# Plotando mapa cloropletico usando GeoJson - com animação\n",
    "# Mapa com a linha do tempo da última semana epidemiológica\n",
    "\n",
    "# max_pct = _df_plot['perc_vac'].max()\n",
    "fig = px.choropleth_mapbox(data_UF,\n",
    "                           geojson=uf_br,\n",
    "                           locations=\"state\", \n",
    "                           featureidkey=\"properties.SIGLA_UF\",\n",
    "                           color='perc_vac',\n",
    "                           color_continuous_scale=px.colors.sequential.Teal,\n",
    "                           center={'lat': -16.701591, 'lon': -49.164524},\n",
    "                           mapbox_style=\"carto-positron\",\n",
    "                           animation_frame=\"date_str\",                                                     \n",
    "                           opacity=0.6,\n",
    "                           zoom=3)\n",
    "\n",
    "fig.update_layout(margin={\"r\":0,\"t\":0,\"l\":0,\"b\":0})\n",
    "fig.update_geos(fitbounds=\"locations\", visible=False)\n",
    "fig.show()"
   ]
  },
  {
   "cell_type": "code",
   "execution_count": null,
   "id": "3bbe5289",
   "metadata": {
    "ExecuteTime": {
     "end_time": "2021-06-01T15:40:21.463247Z",
     "start_time": "2021-06-01T15:39:32.438583Z"
    },
    "code_folding": [
     0
    ]
   },
   "outputs": [],
   "source": [
    "# Plotando mapa cloropletico usando GeoJson - sem animação\n",
    "\n",
    "_df_plot = data_UF.query(\"date == @df['date'].max()\")\n",
    "\n",
    "#------------------------------ Usando graph_objects e GeoJson\n",
    "fig = go.Figure(go.Choroplethmapbox(\n",
    "    geojson=uf_br,\n",
    "    featureidkey=\"properties.SIGLA_UF\",\n",
    "    locations=_df_plot['state'], \n",
    "    z=_df_plot['faixa_perc'],\n",
    "    colorscale=\"Mint\",\n",
    "    ids=_df_plot['faixa_perc'],\n",
    "    zmin=0, \n",
    "    zmax=limite_superior,\n",
    "    marker_line_width=0.8,\n",
    "    colorbar={'len': 0.97, 'nticks': 6, 'thickness': 15, 'borderwidth': 0, 'title': '% Vac.'},    \n",
    "    hovertemplate='<b>%{properties.NM_UF}</b><br><br>Pop. Vacinada: %{z:.2f}%',\n",
    "    name=\"\",\n",
    "    )\n",
    ")\n",
    "fig.update_layout(\n",
    "    mapbox_style=\"carto-positron\",\n",
    "    mapbox_zoom=3, \n",
    "    mapbox_center = {'lat': -16.701591, 'lon': -49.164524},\n",
    "    margin={\"r\":0,\"t\":0,\"l\":0,\"b\":0},\n",
    "#     title_x=0.7,\n",
    "#     title_y=0.96,\n",
    "    separators=',.',    \n",
    "    title=dict(\n",
    "        text='<b>1ª Dose por UF</b> - % da população vacinada',\n",
    "        xref='paper',\n",
    "        #pad=dict(l=150, t=150),\n",
    "        y=0.9,\n",
    "        x=0.92\n",
    "    ),\n",
    ")\n",
    "\n",
    "fig.write_html(\"graficos/mapa_vacinacao.html\")\n",
    "fig.show()"
   ]
  },
  {
   "cell_type": "markdown",
   "id": "392c4004",
   "metadata": {},
   "source": [
    "#### Usando GeoDataframe"
   ]
  },
  {
   "cell_type": "code",
   "execution_count": null,
   "id": "2cc6fd11",
   "metadata": {
    "ExecuteTime": {
     "end_time": "2021-06-03T21:58:18.780517Z",
     "start_time": "2021-06-03T21:58:18.684475Z"
    }
   },
   "outputs": [],
   "source": [
    "dict_colors = {label: color for label, color in zip(cut_labels, ['#bff7ff', '#8fd1e3', '#3088AE', '#005073'])}\n",
    "dict_colors"
   ]
  },
  {
   "cell_type": "code",
   "execution_count": null,
   "id": "800ab4d5",
   "metadata": {
    "ExecuteTime": {
     "end_time": "2021-06-03T22:01:38.393890Z",
     "start_time": "2021-06-03T21:58:19.704799Z"
    },
    "code_folding": []
   },
   "outputs": [],
   "source": [
    "# Plotando mapa cloropletico usando o express\n",
    "\n",
    "_df_plot = data_UF.query(\"date == @data_UF['date'].max()\")\n",
    "# _df_plot = geo_dados_uf.merge(_df_plot, left_on='SIGLA_UF', right_on='state').set_index('SIGLA_UF')\n",
    "# _df_plot = _df_plot[['SIGLA_UF','NM_UF', 'perc_vac', 'geometry']].copy()\n",
    "\n",
    "#------------------------------ Usando plotly express e GeoDataframe\n",
    "fig = px.choropleth_mapbox(\n",
    "    _df_plot, \n",
    "    geojson=uf_br, \n",
    "    color='faixa_perc',\n",
    "    locations='state',\n",
    "    featureidkey=\"properties.SIGLA_UF\",\n",
    "    color_discrete_map=dict_colors,\n",
    "    range_color=(0, limite_superior),\n",
    "    center={'lat': -16.701591, 'lon': -49.164524},\n",
    "    mapbox_style=\"carto-positron\",\n",
    "    title='<b>Vacinação por UF</b> - % da população vacinada',\n",
    "    hover_name='NM_UF',\n",
    "    hover_data={'perc_vac': ':,.2f%', 'state': False, 'faixa_perc': False},\n",
    "    labels={'perc_vac': 'Pop. Vacinada', 'faixa_perc': '% Vacinados'},\n",
    "    zoom=3\n",
    "    )\n",
    "fig.update_layout(\n",
    "    margin={\"r\":0,\"t\":0,\"l\":0,\"b\":0},\n",
    "    title_x=0.7,\n",
    "    title_y=0.96,\n",
    "    separators=',.',\n",
    ")\n",
    "fig.update_geos(fitbounds=\"locations\", visible=False)\n",
    "fig.write_html(\"graficos/mapa_vacinacao.html\")\n",
    "\n",
    "fig.show()"
   ]
  },
  {
   "cell_type": "markdown",
   "id": "6ce28d64",
   "metadata": {},
   "source": [
    "### Nº de casos por Municípios - proporcional a 100.000 habitantes"
   ]
  },
  {
   "cell_type": "code",
   "execution_count": null,
   "id": "b61127c8",
   "metadata": {
    "ExecuteTime": {
     "end_time": "2021-05-19T21:16:09.105053Z",
     "start_time": "2021-05-19T21:15:38.184469Z"
    },
    "code_folding": [],
    "run_control": {
     "marked": false
    }
   },
   "outputs": [],
   "source": [
    "# import gzip file with cities data\n",
    "chunk_size = 50000\n",
    "df_cities = pd.DataFrame()\n",
    "\n",
    "_dc = pd.read_csv(\"https://github.com/wcota/covid19br/blob/master/cases-brazil-cities-time.csv.gz?raw=true\", \n",
    "                        compression='gzip',\n",
    "                        iterator=True,\n",
    "                        chunksize=chunk_size\n",
    "                       )\n",
    "for df in _dc:\n",
    "    df_cities = df_cities.append(df)\n",
    "\n",
    "\n",
    "df_cities.sample(3)"
   ]
  },
  {
   "cell_type": "code",
   "execution_count": null,
   "id": "64a3dbe4",
   "metadata": {
    "ExecuteTime": {
     "end_time": "2021-05-19T13:39:05.232882Z",
     "start_time": "2021-05-19T13:39:05.227895Z"
    }
   },
   "outputs": [],
   "source": [
    "df_cities.shape"
   ]
  },
  {
   "cell_type": "code",
   "execution_count": null,
   "id": "cdf686d4",
   "metadata": {
    "ExecuteTime": {
     "end_time": "2021-05-19T21:16:09.499995Z",
     "start_time": "2021-05-19T21:16:09.107054Z"
    }
   },
   "outputs": [],
   "source": [
    "df_cities['date'] = pd.to_datetime(df_cities['date'])"
   ]
  },
  {
   "cell_type": "code",
   "execution_count": null,
   "id": "fe62f3ae",
   "metadata": {
    "ExecuteTime": {
     "end_time": "2021-05-02T19:23:58.396866Z",
     "start_time": "2021-05-02T19:23:58.384862Z"
    }
   },
   "outputs": [],
   "source": [
    "df_cities['ibgeID'].dtype"
   ]
  },
  {
   "cell_type": "code",
   "execution_count": null,
   "id": "f8600eb3",
   "metadata": {
    "ExecuteTime": {
     "end_time": "2021-05-05T02:02:56.725575Z",
     "start_time": "2021-05-05T02:02:56.714578Z"
    }
   },
   "outputs": [],
   "source": [
    "df_cities.shape"
   ]
  },
  {
   "cell_type": "code",
   "execution_count": null,
   "id": "3895ec58",
   "metadata": {
    "ExecuteTime": {
     "end_time": "2021-05-19T21:16:10.607403Z",
     "start_time": "2021-05-19T21:16:09.501962Z"
    }
   },
   "outputs": [],
   "source": [
    "df_gps_cities = pd.read_csv(\"https://raw.githubusercontent.com/wcota/covid19br/master/gps_cities.csv\")\n",
    "df_gps_cities.sample(3)"
   ]
  },
  {
   "cell_type": "code",
   "execution_count": null,
   "id": "04507887",
   "metadata": {
    "ExecuteTime": {
     "end_time": "2021-05-05T14:21:43.844344Z",
     "start_time": "2021-05-05T14:21:43.833718Z"
    }
   },
   "outputs": [],
   "source": [
    "df_gps_cities.shape"
   ]
  },
  {
   "cell_type": "code",
   "execution_count": null,
   "id": "54570628",
   "metadata": {
    "ExecuteTime": {
     "end_time": "2021-05-06T17:46:09.974100Z",
     "start_time": "2021-05-06T17:46:09.964126Z"
    }
   },
   "outputs": [],
   "source": [
    "# verifica se tem algum codigo ibge repetido\n",
    "ibge_rep = np.any(df_gps_cities['ibgeID'].value_counts()>1)\n",
    "\n",
    "# verifica se tem algum codigo fora do padrão\n",
    "ibge_fora = bool(len(np.where(df_gps_cities['ibgeID'].values > 9999999)[0])) | bool(len(np.where(df_gps_cities['ibgeID'].values < 0)[0]))\n",
    "\n",
    "# verifica se tem algum valor faltante\n",
    "ibge_missing = df_gps_cities['ibgeID'].isna().sum()\n",
    "\n",
    "print(f'cod. ibge repetido: {ibge_rep} \\ncod. ibge fora do padrão: {ibge_fora} \\nvalores faltantes: {ibge_missing}')"
   ]
  },
  {
   "cell_type": "code",
   "execution_count": null,
   "id": "b98d0b0c",
   "metadata": {
    "ExecuteTime": {
     "end_time": "2021-05-05T14:22:42.046913Z",
     "start_time": "2021-05-05T14:22:42.012880Z"
    }
   },
   "outputs": [],
   "source": [
    "# Verificando os registros cujo ibgeID está faltando\n",
    "df_gps_cities.loc[df_gps_cities['ibgeID'].isna()]"
   ]
  },
  {
   "cell_type": "code",
   "execution_count": null,
   "id": "c2938c3a",
   "metadata": {
    "ExecuteTime": {
     "end_time": "2021-05-19T21:16:10.614387Z",
     "start_time": "2021-05-19T21:16:10.608399Z"
    }
   },
   "outputs": [],
   "source": [
    "# removendo as linhas cujo campo ibgeID está faltando\n",
    "df_gps_cities = df_gps_cities.dropna(subset=['ibgeID'])"
   ]
  },
  {
   "cell_type": "code",
   "execution_count": null,
   "id": "ae307c0a",
   "metadata": {
    "ExecuteTime": {
     "end_time": "2021-05-19T21:16:10.624382Z",
     "start_time": "2021-05-19T21:16:10.616378Z"
    }
   },
   "outputs": [],
   "source": [
    "# convertendo o tipo da coluna ibeID do df_gps_cities para o mesmo tipo da coluna ibgeID do df_cities\n",
    "df_gps_cities['ibgeID'] = df_gps_cities['ibgeID'].astype(int)"
   ]
  },
  {
   "cell_type": "code",
   "execution_count": null,
   "id": "0416eb93",
   "metadata": {
    "ExecuteTime": {
     "end_time": "2021-05-10T12:51:46.536095Z",
     "start_time": "2021-05-10T12:51:46.520121Z"
    }
   },
   "outputs": [],
   "source": [
    "df_gps_cities['ibgeID'].dtype"
   ]
  },
  {
   "cell_type": "code",
   "execution_count": null,
   "id": "fce1300f",
   "metadata": {
    "ExecuteTime": {
     "end_time": "2021-05-19T21:16:10.745051Z",
     "start_time": "2021-05-19T21:16:10.625377Z"
    }
   },
   "outputs": [],
   "source": [
    "# definindo as colunas 'lat' e 'lon' no df_cities com base no 'ibgeID' do df_gps_cities\n",
    "df_cities['lat'] = df_cities['ibgeID'].map(df_gps_cities.set_index('ibgeID')['lat'])\n",
    "df_cities['lon'] = df_cities['ibgeID'].map(df_gps_cities.set_index('ibgeID')['lon'])"
   ]
  },
  {
   "cell_type": "code",
   "execution_count": null,
   "id": "f8ebaab8",
   "metadata": {
    "ExecuteTime": {
     "end_time": "2021-05-10T13:53:28.553954Z",
     "start_time": "2021-05-10T13:53:28.359962Z"
    }
   },
   "outputs": [],
   "source": [
    "df_cities.sample(3)"
   ]
  },
  {
   "cell_type": "code",
   "execution_count": null,
   "id": "6f73d6f6",
   "metadata": {
    "ExecuteTime": {
     "end_time": "2021-05-19T21:16:15.825561Z",
     "start_time": "2021-05-19T21:16:10.747019Z"
    }
   },
   "outputs": [],
   "source": [
    "_df = df_cities.query('date == @df_cities.date.max()')\n",
    "mapa = px.scatter_mapbox(\n",
    "    _df, \n",
    "    lat='lat', \n",
    "    lon='lon',  \n",
    "    hover_name='city',\n",
    "    color_continuous_scale=px.colors.sequential.matter,\n",
    "    color='totalCases_per_100k_inhabitants',                     \n",
    "    zoom= 3,\n",
    "    hover_data={'lat':False, 'lon':False, 'totalCases':True, 'deaths': True, 'totalCases_per_100k_inhabitants': ':.2f'},\n",
    "    labels={'totalCases': 'Casos', 'deaths': 'Óbitos', 'totalCases_per_100k_inhabitants': 'Casos p/ 100mil hab.'},\n",
    "    title='<b>Covid-19</b> Proporção de casos por 100mil habitantes'\n",
    ")\n",
    "\n",
    "mapa.update_layout(\n",
    "    mapbox_style='open-street-map',\n",
    "    margin={'r':0, 't':0, 'l':0, 'b':0},\n",
    "    title_x=0.5,\n",
    "    title_y=0.96,\n",
    ")\n",
    "mapa.show()\n",
    "mapa.write_html(\"graficos/mapa-casos-p-100k-h.html\")"
   ]
  },
  {
   "cell_type": "code",
   "execution_count": null,
   "id": "6a15e047",
   "metadata": {
    "ExecuteTime": {
     "end_time": "2021-05-06T19:19:25.083892Z",
     "start_time": "2021-05-06T19:19:25.071226Z"
    }
   },
   "outputs": [],
   "source": [
    "import ipywidgets as widgets\n",
    "from ipywidgets import fixed"
   ]
  },
  {
   "cell_type": "code",
   "execution_count": null,
   "id": "a5f791b2",
   "metadata": {
    "ExecuteTime": {
     "end_time": "2021-05-06T19:19:43.685642Z",
     "start_time": "2021-05-06T19:19:27.985606Z"
    }
   },
   "outputs": [],
   "source": [
    "f_date = df_cities['date'].dt.strftime('%Y-%m-%d').sort_values().unique().tolist()"
   ]
  },
  {
   "cell_type": "code",
   "execution_count": null,
   "id": "a4504410",
   "metadata": {
    "ExecuteTime": {
     "end_time": "2021-05-06T19:20:07.485548Z",
     "start_time": "2021-05-06T19:20:07.437589Z"
    }
   },
   "outputs": [],
   "source": [
    "# Controle Widget para data\n",
    "date_limit = widgets.SelectionSlider(\n",
    "    options= f_date,\n",
    "    value= '2020-03-01',\n",
    "    description= 'Data: ',\n",
    "    continuous_update= False,\n",
    "    orientation= 'horizontal',\n",
    "    readout= True,\n",
    "    style={'description_width': 'initial'}\n",
    ")\n",
    "\n",
    "def update_map(df, limit):\n",
    "\n",
    "\n",
    "    _df = df.loc[df['date'] == pd.to_datetime(limit)].copy()\n",
    "#     print(limit, end='\\n')\n",
    "#     print(pd.to_datetime(limit), end='\\n')\n",
    "#     print(_df, end='\\n')\n",
    "    mapa = px.scatter_mapbox( _df, lat='lat', lon='lon',  \n",
    "                     hover_name='city',\n",
    "                     hover_data=['totalCases', 'deaths'],\n",
    "                     color_continuous_scale=px.colors.sequential.Plasma_r,\n",
    "                     color='totalCases_per_100k_inhabitants',                                          \n",
    "                     zoom= 3)\n",
    "    mapa.update_layout(mapbox_style='open-street-map')\n",
    "    mapa.update_layout(height=600, margin={'r':0, 't':0, 'l':0, 'b':0})\n",
    "    mapa.show()"
   ]
  },
  {
   "cell_type": "code",
   "execution_count": null,
   "id": "b631676c",
   "metadata": {
    "ExecuteTime": {
     "end_time": "2021-05-06T19:20:15.133732Z",
     "start_time": "2021-05-06T19:20:09.014339Z"
    }
   },
   "outputs": [],
   "source": [
    "# _df = df_cities.loc[df_cities['date'] == pd.to_datetime('2020-03-01')]\n",
    "\n",
    "widgets.interactive( update_map, df=fixed(df_cities), limit=date_limit)"
   ]
  }
 ],
 "metadata": {
  "kernelspec": {
   "display_name": "covid19-brasil",
   "language": "python",
   "name": "covid19-brasil"
  },
  "language_info": {
   "codemirror_mode": {
    "name": "ipython",
    "version": 3
   },
   "file_extension": ".py",
   "mimetype": "text/x-python",
   "name": "python",
   "nbconvert_exporter": "python",
   "pygments_lexer": "ipython3",
   "version": "3.8.8"
  }
 },
 "nbformat": 4,
 "nbformat_minor": 5
}
