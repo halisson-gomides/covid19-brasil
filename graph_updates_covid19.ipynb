{
 "cells": [
  {
   "cell_type": "code",
   "execution_count": null,
   "id": "b26be7d5",
   "metadata": {
    "ExecuteTime": {
     "end_time": "2021-06-04T20:46:14.906871Z",
     "start_time": "2021-06-04T20:46:14.173063Z"
    }
   },
   "outputs": [],
   "source": [
    "import pandas as pd\n",
    "import numpy as np\n",
    "\n",
    "import asyncio\n",
    "from concurrent.futures import ThreadPoolExecutor\n",
    "from concurrent.futures import as_completed\n",
    "\n",
    "import plotly.graph_objects as go\n",
    "from plotly.subplots import make_subplots\n",
    "import plotly.express as px"
   ]
  },
  {
   "cell_type": "code",
   "execution_count": null,
   "id": "55cfa987",
   "metadata": {
    "ExecuteTime": {
     "end_time": "2021-06-04T20:45:59.631401Z",
     "start_time": "2021-06-04T20:45:59.600530Z"
    },
    "code_folding": [],
    "run_control": {
     "marked": false
    }
   },
   "outputs": [],
   "source": [
    "# Função de carga de dados\n",
    "\n",
    "def load_data(data_url:str, tipo:str= 'csv', date_f:list= [], **kwargs) -> 'DataFrame':\n",
    "    '''\n",
    "    Função para carregar um conjunto de dados\n",
    "    :rtype: pd.Dataframe\n",
    "    :param data_url: caminho completo do arquivo a ser carregado\n",
    "    :param tipo: tipo de arquivo: csv|xls|xlsx|json etc\n",
    "    :param date_f: lista com os nomes dos campos a ser convertidos para datetime \n",
    "    :param kwargs: argumentos especificos para a carga do arquivo, conforme o parametro 'tipo'\n",
    "    :return: Pandas DataFrame\n",
    "    '''\n",
    "\n",
    "    if tipo == 'csv':\n",
    "        \n",
    "        if 'chunksize' in kwargs:\n",
    "            \n",
    "            kwargs['iterator'] = True\n",
    "            data = pd.DataFrame()\n",
    "            _df_chunked = pd.read_csv(data_url, **kwargs)            \n",
    "            for _df in _df_chunked:\n",
    "                \n",
    "                data = data.append(_df)\n",
    "        else:            \n",
    "            data = pd.read_csv(data_url, **kwargs)\n",
    "            \n",
    "    elif tipo == 'xls' or tipo == 'xlsx':\n",
    "        \n",
    "        data = pd.read_excel(data_url, **kwargs)\n",
    "        \n",
    "    elif tipo == 'json':\n",
    "        \n",
    "        import json\n",
    "        \n",
    "        with open(data_url) as f:\n",
    "            data = json.load(f)\n",
    "            \n",
    "        return data\n",
    "    \n",
    "    elif tipo == 'shapefile':\n",
    "        \n",
    "        import geopandas as gpd\n",
    "        \n",
    "        data = gpd.read_file(data_url, **kwargs)\n",
    "        return data\n",
    "    \n",
    "    else:\n",
    "        if 'chunksize' in kwargs:\n",
    "            \n",
    "            kwargs['iterator'] = True\n",
    "            data = pd.DataFrame()\n",
    "            _df_chunked = pd.read_table(data_url, **kwargs)            \n",
    "            for _df in _df_chunked:\n",
    "                \n",
    "                data = data.append(_df)\n",
    "        else:            \n",
    "            data = pd.read_table(data_url, **kwargs)\n",
    "    \n",
    "    \n",
    "    for dt_field in date_f:\n",
    "        data[dt_field] = pd.to_datetime(data[dt_field])\n",
    "        \n",
    "    return data"
   ]
  },
  {
   "cell_type": "code",
   "execution_count": null,
   "id": "587c516c",
   "metadata": {
    "ExecuteTime": {
     "end_time": "2021-06-04T20:46:00.147754Z",
     "start_time": "2021-06-04T20:46:00.112920Z"
    },
    "code_folding": [
     2,
     28,
     61,
     85
    ]
   },
   "outputs": [],
   "source": [
    "# Funções de Transformação dos dados\n",
    "\n",
    "async def transform_dfbr(df, cols:list= []) -> 'DataFrame':\n",
    "    '''\n",
    "    Função para transformar o DataFrame df_br, filtra os dados para o Brasil, seleciona colunas especificadas\n",
    "    e adiciona novas colunas\n",
    "    :param df: dataframe com dados sobre a covid do Brasil\n",
    "    :param cols: lista com os nomes das colunas que deverão conter no DataFrame de retorno. Não sendo informado,\n",
    "    retorna todas as colunas do DataFrame.    \n",
    "    :return: Pandas DataFrame\n",
    "    '''\n",
    "    \n",
    "    colunas = cols if len(cols) > 0 else df.columns.to_list()\n",
    "    \n",
    "    # Filtra os dados para o Brasil e seleciona colunas específicas\n",
    "    _df_BR = df.query(\"state == 'TOTAL'\")[colunas]\n",
    "\n",
    "    # cria novas colunas\n",
    "    _df_BR['activeCases'] = _df_BR['totalCases'] - _df_BR['deaths'] - _df_BR['recovered']\n",
    "    _df_BR['activeCasesMS'] = _df_BR['totalCasesMS'] - _df_BR['deathsMS'] - _df_BR['recovered']\n",
    "    _df_BR['activeCasesDiff'] = _df_BR['activeCases'] - _df_BR['activeCasesMS']\n",
    "    _df_BR['deathsDiff'] = _df_BR['deaths'] - _df_BR['deathsMS']\n",
    "    _df_BR['newVaccinated'] = _df_BR['vaccinated'].diff()\n",
    "    _df_BR['newVaccinated_second'] = _df_BR['vaccinated_second'].diff()\n",
    "    \n",
    "    return _df_BR\n",
    "\n",
    "\n",
    "async def transform_popuf(df_munic) -> 'DataFrame':\n",
    "    '''\n",
    "    Função para transformar o DataFrame df_popmunic, trata o dado de POPULAÇÃO ESTIMADA e retonar outro dataframe \n",
    "    agregado por UF\n",
    "    :param df_munic: dataframe com dados populacionais dos municípios\n",
    "    :return: Pandas DataFrame\n",
    "    '''\n",
    "    \n",
    "    #---- Trata o DataFrame de População do Brasil e UFs ----\n",
    "    # Exclui uma coluna vazia e as linhas que contém a string 'Brasil' e 'Região'\n",
    "    pop_uf = df_munic['BRASIL E UFs'].drop(columns='Unnamed: 1').drop(\n",
    "    np.where(df_munic['BRASIL E UFs'].iloc[:,0].str.contains('Brasil|Região', case=False))[0]\n",
    "    ).reset_index(drop=True)\n",
    "    \n",
    "    # Trata os valores populacionais que contém referências entre ()\n",
    "    pop_uf['POPULAÇÃO ESTIMADA'] = pop_uf['POPULAÇÃO ESTIMADA'].apply(\n",
    "    lambda x: int(x.split('(')[0].replace('.','')) if  isinstance(x, str) else x)\n",
    "\n",
    "    # Renomeia as colunas que sobraram\n",
    "    pop_uf.rename(columns={'BRASIL E UNIDADES DA FEDERAÇÃO': 'NM_UF', 'POPULAÇÃO ESTIMADA': 'POPULACAO'}, inplace=True)\n",
    "    \n",
    "    #---- Trata o DataFrame de População de Municípios ----\n",
    "    _pop_munic = df_munic['Municípios'].drop(index=df_munic['Municípios'].index[-9:])\n",
    "    _pop_munic['POPULAÇÃO ESTIMADA'] = _pop_munic['POPULAÇÃO ESTIMADA'].apply(lambda x: str(x).split('(')[0])\n",
    "    _pop_munic['POPULAÇÃO ESTIMADA'] = _pop_munic['POPULAÇÃO ESTIMADA'].astype(int)\n",
    "    \n",
    "    # Adciona a sigla da UF no DataFrame pop_uf baseado na populacao do DataFrame _pop_munic\n",
    "    pop_uf['UF'] = pop_uf['POPULACAO'].map(_pop_munic[['UF', 'POPULAÇÃO ESTIMADA']].groupby('UF')\n",
    "                                           .sum().reset_index().set_index('POPULAÇÃO ESTIMADA')['UF'])\n",
    "    \n",
    "    return pop_uf\n",
    "\n",
    "\n",
    "async def transform_dfcities(df_cities, df_gps_cities) -> 'DataFrame':\n",
    "    '''\n",
    "    Função para transformar o DataFrame df_cities, acrescentando informações de latitude e longitude a partir do df_gps_cities\n",
    "    :param df_cities: dataframe com dados de covid por município\n",
    "    :param df_gps_cities: dataframe com dados de coordenadas geográficas dos municípios\n",
    "    :return: Pandas DataFrame\n",
    "    '''\n",
    "    \n",
    "    # filtra pela data mais recente\n",
    "    _df = df_cities.query('date == @df_cities.date.max()').copy()    \n",
    "    \n",
    "    # removendo as linhas cujo campo ibgeID está faltando\n",
    "    _df_gps = df_gps_cities.dropna(subset=['ibgeID']).copy()\n",
    "    \n",
    "    # convertendo o tipo da coluna ibeID do df_gps_cities para o mesmo tipo da coluna ibgeID do df_cities\n",
    "    _df_gps.loc[:, 'ibgeID'] = _df_gps['ibgeID'].astype(int)\n",
    "    \n",
    "    # definindo as colunas 'lat' e 'lon' no df_cities com base no 'ibgeID' do df_gps_cities\n",
    "    _df['lat'] = _df.loc[:, 'ibgeID'].map(_df_gps.set_index('ibgeID').loc[:, 'lat'])\n",
    "    _df['lon'] = _df.loc[:, 'ibgeID'].map(_df_gps.set_index('ibgeID').loc[:, 'lon'])\n",
    "    \n",
    "    return _df\n",
    "\n",
    "\n",
    "async def transform_dfuf(df, df_popuf) -> 'DataFrame':\n",
    "    '''\n",
    "    Função para transformar o DataFrame df_br, filtra os dados por UF e adiciona nova coluna de percentual \n",
    "    da população vacinada de cada UF com base na informação de população do df_popuf\n",
    "    :param df: dataframe com dados sobre a covid do Brasil\n",
    "    :param df_popuf: dataframe com dados sobre a população estimada por UF    \n",
    "    :return: Pandas DataFrame\n",
    "    '''\n",
    "    \n",
    "    # Filtra os dados para as UFs e para a data mais recente\n",
    "    _df_UF = df.query(\"state != 'TOTAL' and date == @df['date'].max()\").copy()\n",
    "\n",
    "    # cria novas colunas\n",
    "    _df_UF['perc_vac'] = (_df_UF.loc[:, 'vaccinated'] / _df_UF.loc[:, 'state'].map(df_popuf.set_index('UF').loc[:, 'POPULACAO']))*100\n",
    "    _df_UF['NM_UF'] = _df_UF.loc[:,'state'].map(df_popuf.set_index('UF').loc[:, 'NM_UF'])\n",
    "    \n",
    "    # Definindo faixa de valores de população vacinada por UF\n",
    "    limite_inferior = int(round(_df_UF['perc_vac'].min(), 0))\n",
    "    limite_superior = int(round(_df_UF['perc_vac'].max(), 0))\n",
    "    cut_bins = np.linspace(limite_inferior-2, limite_superior+2, num=5)\n",
    "    cut_bins = np.ceil(cut_bins).astype(int)\n",
    "    global cut_labels\n",
    "    cut_labels = [f'{cut_bins[i]}-{cut_bins[i+1]}%' if i+2 < len(cut_bins) else f'> {cut_bins[i]}%' for i in range(0, len(cut_bins)-1)]\n",
    "    \n",
    "    _df_UF['faixa_perc'] = pd.cut(\n",
    "        _df_UF['perc_vac'],\n",
    "        bins=cut_bins,\n",
    "        labels=cut_labels,\n",
    "    )\n",
    "    \n",
    "    return _df_UF"
   ]
  },
  {
   "cell_type": "code",
   "execution_count": null,
   "id": "858ee775",
   "metadata": {
    "ExecuteTime": {
     "end_time": "2021-06-04T20:45:51.718165Z",
     "start_time": "2021-06-04T20:45:51.709166Z"
    },
    "code_folding": []
   },
   "outputs": [],
   "source": [
    "# Setando variáveis\n",
    "url_br = \"https://raw.githubusercontent.com/wcota/covid19br/master/cases-brazil-states.csv\"\n",
    "url_cities = \"https://github.com/wcota/covid19br/blob/master/cases-brazil-cities-time.csv.gz?raw=true\"\n",
    "url_popmunic = 'datasets/originais/populacao_2020.xls'\n",
    "url_gpscities = \"https://raw.githubusercontent.com/wcota/covid19br/master/gps_cities.csv\"\n",
    "url_geojson_br = 'geojson/brasil-uf-compressed.json'\n",
    "url_shp_uf = 'shapefiles/BR_UF_2020/BR_UF_2020.shp'\n",
    "chunk_size = 50000"
   ]
  },
  {
   "cell_type": "code",
   "execution_count": null,
   "id": "9cca59e8",
   "metadata": {
    "ExecuteTime": {
     "end_time": "2021-06-04T20:45:54.318035Z",
     "start_time": "2021-06-04T20:45:54.308038Z"
    }
   },
   "outputs": [],
   "source": [
    "import time"
   ]
  },
  {
   "cell_type": "code",
   "execution_count": null,
   "id": "584f207e",
   "metadata": {
    "ExecuteTime": {
     "end_time": "2021-06-04T18:15:45.976475Z",
     "start_time": "2021-06-04T18:15:01.754321Z"
    },
    "code_folding": [
     0
    ],
    "run_control": {
     "marked": false
    }
   },
   "outputs": [],
   "source": [
    "# Testantdo a função load_data\n",
    "\n",
    "D_ARGS = {\n",
    "    'df_br': dict(data_url=url_br, date_f=['date']),\n",
    "    'df_cities': dict(data_url=url_cities, date_f=['date'], compression='gzip', chunksize=chunk_size),\n",
    "    'df_popmunic': dict(data_url=url_popmunic, tipo='xls', sheet_name=['BRASIL E UFs','Municípios'], skiprows=1, skipfooter=7),\n",
    "    'df_gpscities': dict(data_url=url_gpscities),\n",
    "    'gj_br': dict(data_url=url_geojson_br, tipo='json'),\n",
    "}\n",
    "\n",
    "datasets = {}\n",
    "\n",
    "start = time.perf_counter()\n",
    "\n",
    "with ThreadPoolExecutor() as executor:\n",
    "    \n",
    "    # Inicia as tarefas de carga e atribui a cada tarefa o nome da chave correspondente a cada conjunto de dados\n",
    "    future_data_loader = {executor.submit(load_data, **valor): chave for chave, valor in D_ARGS.items()}\n",
    "    \n",
    "    for task in as_completed(future_data_loader):\n",
    "        \n",
    "        try:\n",
    "            datasets[future_data_loader[task]] = task.result()\n",
    "        except Exception as exc:\n",
    "            print('%r generated an exception: %s' % (future_data_loader[task], exc))\n",
    "        else:\n",
    "            print('dataset %r loaded - %d rows' % (future_data_loader[task], len(datasets[future_data_loader[task]])))\n",
    "\n",
    "\n",
    "end = time.perf_counter()\n",
    "print(\"tempo de execução {}\".format(end-start))"
   ]
  },
  {
   "cell_type": "code",
   "execution_count": null,
   "id": "19d37662",
   "metadata": {
    "ExecuteTime": {
     "end_time": "2021-06-04T18:35:15.584733Z",
     "start_time": "2021-06-04T18:35:14.989604Z"
    },
    "code_folding": [
     0
    ],
    "run_control": {
     "marked": false
    }
   },
   "outputs": [],
   "source": [
    "# Testantdo as funções de transformação\n",
    "start = time.perf_counter()\n",
    "\n",
    "# df_br = await load_data(data_url=url_br, date_f=['date']) # tempo de execução 0.38707780838012695\n",
    "# df_cities = await load_data(data_url=url_cities, date_f=['date'], compression='gzip', iterator=True, chunksize=chunk_size) # tempo de execução 34.51947283744812\n",
    "# df_popmunic = await load_data(data_url=url_popmunic, tipo='xls', sheet_name='Municípios', skiprows=1, skipfooter=16) # tempo de execução 0.37621641159057617\n",
    "\n",
    "df_br, df_cities, df_popuf  = await asyncio.gather(\n",
    "    transform_dfbr(datasets['df_br'], cols=['date', 'state', 'newDeaths', 'deaths', 'deathsMS', 'newCases', 'totalCases', 'totalCasesMS', 'recovered', 'tests', 'vaccinated', 'vaccinated_second']),\n",
    "    transform_dfcities(datasets['df_cities'], datasets['df_gpscities']),\n",
    "    transform_popuf(datasets['df_popmunic']),\n",
    "    \n",
    ")\n",
    "\n",
    "end = time.perf_counter()\n",
    "print(\"tempo de execução {}\".format(end-start))"
   ]
  },
  {
   "cell_type": "code",
   "execution_count": null,
   "id": "373f0003",
   "metadata": {
    "ExecuteTime": {
     "end_time": "2021-06-04T20:47:25.940694Z",
     "start_time": "2021-06-04T20:47:25.925706Z"
    },
    "code_folding": []
   },
   "outputs": [],
   "source": [
    "# Função para retornar os dataframes carregados e transformados\n",
    "\n",
    "async def fetch_dataframes():\n",
    "    \n",
    "    import logging\n",
    "    import time \n",
    "    \n",
    "    # seta o arquivo que armazenará os logs e as configurações básicas de log\n",
    "    logging.basicConfig(filename='gera_graficos_covid.log', \n",
    "                        filemode='w',\n",
    "                        format='%(asctime)s - %(levelname)s - %(message)s',\n",
    "                        datefmt='%d-%m-%Y %H:%M:%S')\n",
    "    \n",
    "    # Instancia o objeto de Log\n",
    "    logger=logging.getLogger() \n",
    "\n",
    "    \n",
    "    # Dicionário cuja chave é o nome do Dataframe a ser carregado e o valor são os parâmetros a serem\n",
    "    # passados para a função que irá carregar o DataFrame - load_data\n",
    "    D_ARGS = {\n",
    "    'df_br': dict(data_url= url_br, date_f=['date']),\n",
    "    'df_cities': dict(data_url= url_cities, date_f=['date'], compression='gzip', chunksize=chunk_size),\n",
    "    'df_popmunic': dict(data_url= url_popmunic, tipo='xls', sheet_name=['BRASIL E UFs','Municípios'], skiprows=1, skipfooter=7),\n",
    "    'df_gpscities': dict(data_url= url_gpscities),\n",
    "    'gj_br': dict(data_url= url_geojson_br, tipo='json'),\n",
    "    }\n",
    "\n",
    "    # Inicializa o Dicionário que irá conter os DataFrames carregados\n",
    "    datasets = {}\n",
    "    \n",
    "    logger.info('Iniciando carga de dados...')\n",
    "    \n",
    "    # Marca o tempo de início da execução da carga\n",
    "    start = time.perf_counter()\n",
    "    \n",
    "    # Execução paralela da carga de dados\n",
    "    with ThreadPoolExecutor() as executor:\n",
    "\n",
    "        # Inicia as tarefas de carga e atribui a cada tarefa o nome da chave correspondente a cada conjunto de dados\n",
    "        future_data_loader = {executor.submit(load_data, **valor): chave for chave, valor in D_ARGS.items()}\n",
    "\n",
    "        for task in as_completed(future_data_loader):\n",
    "\n",
    "            try:\n",
    "                datasets[future_data_loader[task]] = task.result()\n",
    "            except Exception as exc:\n",
    "\n",
    "                logger.error(f'{future_data_loader[task]} generated an exception: {exc}') \n",
    "            else:\n",
    "                \n",
    "                logger.info(f'dataset {future_data_loader[task]} carregado - {len(datasets[future_data_loader[task]])} linhas')\n",
    "    \n",
    "    \n",
    "    logger.info(f'Carga de dados finalizada. Tempo de execução: {time.perf_counter() - start} ')\n",
    "    \n",
    "    logger.info('Iniciando tratamento dos dados...')\n",
    "    \n",
    "    # Marca o tempo de início da transformação dos dados\n",
    "    start = time.perf_counter()\n",
    "    \n",
    "    df_br, df_cities, df_popuf  = await asyncio.gather(\n",
    "        transform_dfbr(datasets['df_br'], cols=['date', 'state', 'newDeaths', 'deaths', 'deathsMS', 'newCases', 'totalCases', 'totalCasesMS', 'recovered', 'tests', 'vaccinated', 'vaccinated_second']),\n",
    "        transform_dfcities(datasets['df_cities'], datasets['df_gpscities']),\n",
    "        transform_popuf(datasets['df_popmunic']),    \n",
    "    )\n",
    "    df_uf = await transform_dfuf(datasets['df_br'], df_popuf)\n",
    "    \n",
    "    logger.info(f'Tratamento os dados finalizada. Tempo de execução: {time.perf_counter() - start} ')\n",
    "    \n",
    "    return df_br, df_cities, df_popuf, df_uf, datasets['gj_br']"
   ]
  },
  {
   "cell_type": "code",
   "execution_count": null,
   "id": "30f2da20",
   "metadata": {
    "ExecuteTime": {
     "end_time": "2021-06-04T20:48:16.557587Z",
     "start_time": "2021-06-04T20:47:39.042177Z"
    }
   },
   "outputs": [],
   "source": [
    "if __name__ == \"__main__\":\n",
    "\n",
    "    df_br, df_cities, df_popuf, df_uf, gj_uf_br = await fetch_dataframes()"
   ]
  },
  {
   "cell_type": "code",
   "execution_count": null,
   "id": "aea8a895",
   "metadata": {
    "ExecuteTime": {
     "end_time": "2021-05-20T22:11:20.195899Z",
     "start_time": "2021-05-20T22:11:20.190939Z"
    }
   },
   "outputs": [],
   "source": [
    "import logging\n",
    "logging.basicConfig(filename='gera_graficos_covid.log', \n",
    "                        filemode='w',\n",
    "                        format='%(asctime)s - %(levelname)s - %(message)s',\n",
    "                        datefmt='%d-%m-%Y %H:%M:%S')\n",
    "    \n",
    "# Instancia o objeto de Log\n",
    "logger=logging.getLogger()\n",
    "logger.info('Iniciando carga de dados...')"
   ]
  },
  {
   "cell_type": "code",
   "execution_count": null,
   "id": "ed0f8693",
   "metadata": {
    "ExecuteTime": {
     "end_time": "2021-06-04T20:01:58.269913Z",
     "start_time": "2021-06-04T20:01:58.001394Z"
    }
   },
   "outputs": [],
   "source": [
    "df_uf"
   ]
  },
  {
   "cell_type": "code",
   "execution_count": null,
   "id": "bca17b3b",
   "metadata": {
    "ExecuteTime": {
     "end_time": "2021-06-04T20:48:36.642049Z",
     "start_time": "2021-06-04T20:48:33.050192Z"
    }
   },
   "outputs": [],
   "source": [
    "gj_uf_br"
   ]
  },
  {
   "cell_type": "code",
   "execution_count": null,
   "id": "4778a2fe",
   "metadata": {},
   "outputs": [],
   "source": []
  }
 ],
 "metadata": {
  "kernelspec": {
   "display_name": "covid19-brasil",
   "language": "python",
   "name": "covid19-brasil"
  },
  "language_info": {
   "codemirror_mode": {
    "name": "ipython",
    "version": 3
   },
   "file_extension": ".py",
   "mimetype": "text/x-python",
   "name": "python",
   "nbconvert_exporter": "python",
   "pygments_lexer": "ipython3",
   "version": "3.8.8"
  }
 },
 "nbformat": 4,
 "nbformat_minor": 5
}
